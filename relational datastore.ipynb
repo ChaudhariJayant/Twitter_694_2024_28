{
 "cells": [
  {
   "cell_type": "code",
   "execution_count": 44,
   "id": "9fb78059",
   "metadata": {},
   "outputs": [
    {
     "name": "stdout",
     "output_type": "stream",
     "text": [
      "Collecting pymysql\n",
      "  Obtaining dependency information for pymysql from https://files.pythonhosted.org/packages/e5/30/20467e39523d0cfc2b6227902d3687a16364307260c75e6a1cb4422b0c62/PyMySQL-1.1.0-py3-none-any.whl.metadata\n",
      "  Downloading PyMySQL-1.1.0-py3-none-any.whl.metadata (4.4 kB)\n",
      "Downloading PyMySQL-1.1.0-py3-none-any.whl (44 kB)\n",
      "   ---------------------------------------- 0.0/44.8 kB ? eta -:--:--\n",
      "   ------------------ --------------------- 20.5/44.8 kB 682.7 kB/s eta 0:00:01\n",
      "   ---------------------------------------- 44.8/44.8 kB 1.1 MB/s eta 0:00:00\n",
      "Installing collected packages: pymysql\n",
      "Successfully installed pymysql-1.1.0\n",
      "Note: you may need to restart the kernel to use updated packages.\n"
     ]
    }
   ],
   "source": [
    "#pip install pymysql\n"
   ]
  },
  {
   "cell_type": "code",
   "execution_count": 45,
   "id": "25a03323",
   "metadata": {},
   "outputs": [],
   "source": [
    "import mysql.connector\n",
    "import json\n",
    "import pymysql"
   ]
  },
  {
   "cell_type": "code",
   "execution_count": 48,
   "id": "cc291c4f",
   "metadata": {},
   "outputs": [],
   "source": [
    "\n",
    "\n",
    "# Establishing a connection to the MySQL database\n",
    "conn = mysql.connector.connect(\n",
    "    host=\"localhost\",\n",
    "    user=\"root\",\n",
    "    password=\"jayant\",\n",
    "    database =\"USERS_DATA\")\n"
   ]
  },
  {
   "cell_type": "code",
   "execution_count": 49,
   "id": "39ca647c",
   "metadata": {},
   "outputs": [
    {
     "name": "stdout",
     "output_type": "stream",
     "text": [
      "Connection to MySQL server is working.\n"
     ]
    }
   ],
   "source": [
    "if conn.is_connected():\n",
    "    print(\"Connection to MySQL server is working.\")\n",
    "else:\n",
    "    print(\"Connection to MySQL server is not established.\")\n",
    "mycur= conn.cursor()"
   ]
  },
  {
   "cell_type": "code",
   "execution_count": null,
   "id": "70c406a3",
   "metadata": {},
   "outputs": [],
   "source": [
    "database_name = \"USERS_DATA\"\n",
    "\n",
    "try:\n",
    "    #cursor.execute(f\"CREATE DATABASE {database_name}\")\n",
    "    print(f\"Database '{database_name}' created successfully\")\n",
    "except mysql.connector.Error as err:\n",
    "    print(f\"Error: {err}\")"
   ]
  },
  {
   "cell_type": "code",
   "execution_count": 23,
   "id": "f016105a",
   "metadata": {},
   "outputs": [],
   "source": [
    "create_table_query = \"\"\"\n",
    "CREATE TABLE IF NOT EXISTS users (\n",
    "    id VARCHAR(20) PRIMARY KEY,\n",
    "    name VARCHAR(255),\n",
    "    screen_name VARCHAR(255),\n",
    "    location VARCHAR(255),\n",
    "    verified BOOLEAN,\n",
    "    followers_count INT,\n",
    "    statuses_count INT,\n",
    "    friends_count INT\n",
    ")\n",
    "\"\"\"\n",
    "\n",
    "# Execute the query to create the table\n",
    "# mycur.execute(create_table_query)"
   ]
  },
  {
   "cell_type": "code",
   "execution_count": 50,
   "id": "de9fe974",
   "metadata": {},
   "outputs": [
    {
     "name": "stdout",
     "output_type": "stream",
     "text": [
      "('id', 'varchar(20)', 'NO', 'PRI', None, '')\n",
      "('name', 'varchar(255)', 'YES', '', None, '')\n",
      "('screen_name', 'varchar(255)', 'YES', '', None, '')\n",
      "('location', 'varchar(255)', 'YES', '', None, '')\n",
      "('verified', 'tinyint(1)', 'YES', '', None, '')\n",
      "('followers_count', 'int', 'YES', '', None, '')\n",
      "('statuses_count', 'int', 'YES', '', None, '')\n",
      "('friends_count', 'int', 'YES', '', None, '')\n"
     ]
    }
   ],
   "source": [
    "mycur.execute(\"describe Users\")\n",
    "for X in mycur:\n",
    "    print(X)"
   ]
  },
  {
   "cell_type": "code",
   "execution_count": null,
   "id": "34ae4bd0",
   "metadata": {},
   "outputs": [],
   "source": []
  },
  {
   "cell_type": "code",
   "execution_count": 51,
   "id": "be7e0cfc",
   "metadata": {},
   "outputs": [],
   "source": [
    "#insert path and replace name of the file below as needed\n",
    "extracted_data=[]\n",
    "count = 0\n",
    "with open(\"C:\\\\Users\\\\chaud\\\\Desktop\\\\Sem_2\\\\AdvanceDatabase\\\\FinalProject\\\\corona-out-2\\\\corona-out-2\", \"r\") as f1:\n",
    "    for line in f1:\n",
    "        try:\n",
    "            data = json.loads(line)\n",
    "            user = data['user']\n",
    "            extracted_user_data = {\n",
    "                'id': user['id_str'],\n",
    "                'name': user['name'],\n",
    "                'screen_name': user['screen_name'],\n",
    "                'location': user['location'],\n",
    "                'verified': user['verified'],\n",
    "                'followers_count': user['followers_count'],\n",
    "                'statuses_count': user['statuses_count'],\n",
    "                'friends_count': user['friends_count']\n",
    "                }\n",
    "            extracted_data.append(extracted_user_data)\n",
    "          \n",
    "        except:\n",
    "            count+=1\n",
    "            continue\n",
    "    \n",
    "    print(\"fail to load error\",count)"
   ]
  },
  {
   "cell_type": "code",
   "execution_count": 52,
   "id": "52666f7b",
   "metadata": {},
   "outputs": [
    {
     "name": "stdout",
     "output_type": "stream",
     "text": [
      "{'id': '1242817830946508801', 'name': 'juwelz v', 'screen_name': 'juwelz_v', 'location': 'Lower East Side, Manhattan', 'verified': False, 'followers_count': 43, 'statuses_count': 906, 'friends_count': 118}\n",
      "{'id': '1225145123920588805', 'name': 'efe09', 'screen_name': 'efe0927183508', 'location': None, 'verified': False, 'followers_count': 653, 'statuses_count': 4177, 'friends_count': 983}\n",
      "{'id': '101007632', 'name': 'Ravin Gupta', 'screen_name': 'IamRaavin', 'location': 'india', 'verified': False, 'followers_count': 499, 'statuses_count': 4038, 'friends_count': 537}\n",
      "{'id': '1230170166614482944', 'name': 'Carpe diem', 'screen_name': 'Carpedi92670638', 'location': None, 'verified': False, 'followers_count': 425, 'statuses_count': 13101, 'friends_count': 459}\n",
      "{'id': '4707764075', 'name': 'UpsidedownTurtle 🧢', 'screen_name': 'Adakisn', 'location': None, 'verified': False, 'followers_count': 76, 'statuses_count': 7471, 'friends_count': 82}\n",
      "{'id': '988174833849634816', 'name': 'TV Conservador / Metró', 'screen_name': 'TVConservador', 'location': 'Belém, Brasil', 'verified': False, 'followers_count': 7240, 'statuses_count': 22665, 'friends_count': 566}\n",
      "{'id': '270088915', 'name': 'Charles Mire', 'screen_name': 'charlesmire', 'location': 'Kitchener-Waterloo, Canada', 'verified': False, 'followers_count': 1295, 'statuses_count': 52236, 'friends_count': 1724}\n",
      "{'id': '2515708525', 'name': 'Ashu', 'screen_name': 'Physics_Ashu', 'location': 'Varanasi, India', 'verified': False, 'followers_count': 25, 'statuses_count': 1083, 'friends_count': 807}\n",
      "{'id': '1171484224244744198', 'name': 'Elfpunkt', 'screen_name': 'meElfpunkt', 'location': None, 'verified': False, 'followers_count': 3, 'statuses_count': 60, 'friends_count': 53}\n",
      "{'id': '2341644176', 'name': 'Abhisht', 'screen_name': 'abhishttripathi', 'location': 'UP36', 'verified': False, 'followers_count': 595, 'statuses_count': 17720, 'friends_count': 535}\n"
     ]
    }
   ],
   "source": [
    "counter = 0\n",
    "for user_data in extracted_data:\n",
    "    print(user_data)\n",
    "    counter += 1\n",
    "    if counter >= 10:\n",
    "        break"
   ]
  },
  {
   "cell_type": "code",
   "execution_count": 57,
   "id": "62a56a3f",
   "metadata": {},
   "outputs": [],
   "source": [
    "# SQL statement for checking if a record already exists\n",
    "connection = pymysql.connect(host='localhost',\n",
    "                             user='root',\n",
    "                             password='jayant',\n",
    "                             database='USERS_DATA',\n",
    "                             cursorclass=pymysql.cursors.DictCursor)\n",
    "\n",
    "\n",
    "\n",
    "# SQL statement for checking if a record already exists\n",
    "check_sql = \"SELECT COUNT(*) FROM Users WHERE id = %s\"\n",
    "\n",
    "# SQL statement for inserting data\n",
    "insert_sql = \"INSERT INTO Users (id, name, screen_name, location, verified, followers_count, statuses_count, friends_count) VALUES (%s, %s, %s, %s, %s, %s, %s, %s)\"\n",
    "\n",
    "# Execute INSERT queries in a loop, skipping duplicates\n",
    "with connection.cursor() as cursor:\n",
    "    for user_data in extracted_data:\n",
    "        # Check if the record already exists\n",
    "        cursor.execute(check_sql, (user_data['id'],))\n",
    "        result = cursor.fetchone()\n",
    "        if result['COUNT(*)'] == 0:\n",
    "            # If the record does not exist, insert it\n",
    "            cursor.execute(insert_sql, (\n",
    "                user_data['id'],\n",
    "                user_data['name'],\n",
    "                user_data['screen_name'],\n",
    "                user_data['location'],\n",
    "                user_data['verified'],\n",
    "                user_data['followers_count'],\n",
    "                user_data['statuses_count'],\n",
    "                user_data['friends_count']\n",
    "            ))\n",
    "            # Commit the transaction\n",
    "            connection.commit()\n",
    "\n",
    "# Close connection\n",
    "connection.close()"
   ]
  },
  {
   "cell_type": "code",
   "execution_count": 60,
   "id": "4f1494f6",
   "metadata": {},
   "outputs": [
    {
     "name": "stdout",
     "output_type": "stream",
     "text": [
      "{'id': '1000083595548127232', 'name': 'mariana', 'screen_name': 'marianap07', 'location': '🥺', 'verified': 0, 'followers_count': 219, 'statuses_count': 30962, 'friends_count': 216}\n",
      "{'id': '1000135976629489665', 'name': '⁷', 'screen_name': 'hayalimvarr', 'location': None, 'verified': 0, 'followers_count': 143, 'statuses_count': 6764, 'friends_count': 95}\n",
      "{'id': '1000488928024055808', 'name': 'full time world savior', 'screen_name': 'KingGunturr', 'location': 'Knowhere, Earth-5 ', 'verified': 0, 'followers_count': 171, 'statuses_count': 1449, 'friends_count': 526}\n",
      "{'id': '1000530300714266624', 'name': 'Gülçin', 'screen_name': 'Pluvviophille', 'location': 'Antalya, Türkiye', 'verified': 0, 'followers_count': 59, 'statuses_count': 499, 'friends_count': 261}\n",
      "{'id': '1000776381842706432', 'name': 'akash sharma', 'screen_name': 'akashsh24505539', 'location': None, 'verified': 0, 'followers_count': 4, 'statuses_count': 717, 'friends_count': 38}\n",
      "{'id': '1000818233073643521', 'name': 'lagartixa. 🦎', 'screen_name': 'anasilvaalemos', 'location': 'Leiria, Portugal', 'verified': 0, 'followers_count': 411, 'statuses_count': 31767, 'friends_count': 666}\n",
      "{'id': '1000909083648626688', 'name': 'Vou', 'screen_name': '_foder_', 'location': 'Tua', 'verified': 0, 'followers_count': 145, 'statuses_count': 3640, 'friends_count': 130}\n",
      "{'id': '1001030727083921408', 'name': 'Besta Mlagila', 'screen_name': 'BestaMlagila', 'location': None, 'verified': 0, 'followers_count': 11404, 'statuses_count': 22407, 'friends_count': 635}\n",
      "{'id': '1001125846696869888', 'name': 'Aazadi', 'screen_name': '_Kannadiga_', 'location': 'Bengaluru, India', 'verified': 0, 'followers_count': 219, 'statuses_count': 19712, 'friends_count': 273}\n",
      "{'id': '1001152129153847296', 'name': '👑شَهيد|•Y•B•N•L•|', 'screen_name': 'Remmzor_YBNL', 'location': 'YBNL', 'verified': 0, 'followers_count': 16654, 'statuses_count': 165830, 'friends_count': 9651}\n",
      "{'id': '1001288964911837184', 'name': 'michael🚜🚜🚜🚜', 'screen_name': 'michael51740963', 'location': 'Den Haag, Nederland', 'verified': 0, 'followers_count': 483, 'statuses_count': 71570, 'friends_count': 376}\n",
      "{'id': '1001342136636211200', 'name': 'NaMurali', 'screen_name': 'NaMurali4', 'location': 'Puducherry', 'verified': 0, 'followers_count': 273, 'statuses_count': 11714, 'friends_count': 339}\n",
      "{'id': '1001416802600026122', 'name': 'Mahesh Manathkar', 'screen_name': 'MaheshManathkar', 'location': 'Nandad', 'verified': 0, 'followers_count': 4, 'statuses_count': 21, 'friends_count': 103}\n",
      "{'id': '1001493468030689280', 'name': 'DIGNEAU #Journaliste 🇪🇺🇫🇷', 'screen_name': 'DIGNEAU5', 'location': 'Carignan-de-Bordeaux 33', 'verified': 0, 'followers_count': 809, 'statuses_count': 55052, 'friends_count': 427}\n",
      "{'id': '1001524548066562048', 'name': 'Schwesterfraudoktor', 'screen_name': 'SchwesterFD', 'location': 'Deutschland', 'verified': 0, 'followers_count': 21687, 'statuses_count': 19557, 'friends_count': 631}\n",
      "{'id': '1001560210769670150', 'name': 'TWITMO INMATE ⭐️⭐️⭐️ Text TRUMP to 88022', 'screen_name': 'TWITMO_INMATE', 'location': 'United States', 'verified': 0, 'followers_count': 33385, 'statuses_count': 224714, 'friends_count': 36639}\n",
      "{'id': '100159468', 'name': 'Adjeng Nuryunita H.', 'screen_name': 'jojoadjeng', 'location': 'My own world', 'verified': 0, 'followers_count': 258, 'statuses_count': 2920, 'friends_count': 333}\n",
      "{'id': '1001614285498470400', 'name': 'JEvaans', 'screen_name': 'EvaansJ', 'location': 'Cologne, Germany', 'verified': 0, 'followers_count': 67, 'statuses_count': 3127, 'friends_count': 280}\n",
      "{'id': '1001682339045494789', 'name': 'Chulbul patidar', 'screen_name': 'Ajay19139859', 'location': None, 'verified': 0, 'followers_count': 7, 'statuses_count': 1530, 'friends_count': 61}\n",
      "{'id': '1001699137157517312', 'name': 'G', 'screen_name': 'gregorykickz', 'location': None, 'verified': 0, 'followers_count': 416, 'statuses_count': 5614, 'friends_count': 390}\n",
      "{'id': '100170929', 'name': 'Biçda', 'screen_name': 'bicda', 'location': 'turkey', 'verified': 0, 'followers_count': 5474, 'statuses_count': 21783, 'friends_count': 616}\n",
      "{'id': '100187512', 'name': 'Eddy de Bruin', 'screen_name': 'EddydeBruin', 'location': 'Nederland; Rijssen', 'verified': 0, 'followers_count': 425, 'statuses_count': 6286, 'friends_count': 156}\n",
      "{'id': '1001876336648978433', 'name': 'pritish kumar panda', 'screen_name': 'pritishkumarpa4', 'location': None, 'verified': 0, 'followers_count': 32, 'statuses_count': 12451, 'friends_count': 361}\n",
      "{'id': '1001914387', 'name': 'YanYu SD #Lfc', 'screen_name': 'sdashafa', 'location': 'NoRth ', 'verified': 0, 'followers_count': 141, 'statuses_count': 4339, 'friends_count': 183}\n",
      "{'id': '1001969613213548544', 'name': 'Micheal Cahoon', 'screen_name': 'CahoonMicheal', 'location': 'California', 'verified': 0, 'followers_count': 2323, 'statuses_count': 29603, 'friends_count': 2858}\n",
      "{'id': '1002015555853869057', 'name': 'Run Niddufira', 'screen_name': 'malkist_roma', 'location': 'Indonesia', 'verified': 0, 'followers_count': 41, 'statuses_count': 1177, 'friends_count': 223}\n",
      "{'id': '100205653', 'name': 'Atul', 'screen_name': 'realatulsingh', 'location': 'India', 'verified': 0, 'followers_count': 28, 'statuses_count': 991, 'friends_count': 51}\n",
      "{'id': '1002243622346125312', 'name': 'karo', 'screen_name': 'Karo87783166', 'location': 'Aichi-Ken - Sao Paulo, Brazil', 'verified': 0, 'followers_count': 178, 'statuses_count': 2645, 'friends_count': 343}\n",
      "{'id': '1002318420321472512', 'name': '【ذو القرنين】ابراهيم بن اسماعيل', 'screen_name': '3thoalgarneen', 'location': None, 'verified': 0, 'followers_count': 714, 'statuses_count': 64397, 'friends_count': 1249}\n",
      "{'id': '1002319988', 'name': 'doarproatlub', 'screen_name': 'doarproatlub', 'location': None, 'verified': 0, 'followers_count': 512, 'statuses_count': 16757, 'friends_count': 648}\n",
      "{'id': '100246605', 'name': 'Dhaval Kothari🇵🇾', 'screen_name': 'dhavalbdq', 'location': 'Towson MD', 'verified': 0, 'followers_count': 54, 'statuses_count': 24287, 'friends_count': 187}\n",
      "{'id': '1002466106450341893', 'name': 'rodrick heffley fan account😼 86', 'screen_name': 'v4mpirewh0re', 'location': 'she/her || 17', 'verified': 0, 'followers_count': 450, 'statuses_count': 14598, 'friends_count': 420}\n",
      "{'id': '1002567099506675712', 'name': 'Joshi Ashvin', 'screen_name': 'JoshiAshvin4', 'location': 'Deesa, India', 'verified': 0, 'followers_count': 102, 'statuses_count': 139, 'friends_count': 113}\n",
      "{'id': '1002607440628723712', 'name': 'عمار الاثوري', 'screen_name': 'ammarmohme2', 'location': None, 'verified': 0, 'followers_count': 199, 'statuses_count': 1596, 'friends_count': 55}\n",
      "{'id': '1002622311000834049', 'name': 'Tush Yoruba Guy', 'screen_name': 'daataa31', 'location': None, 'verified': 0, 'followers_count': 566, 'statuses_count': 7244, 'friends_count': 238}\n",
      "{'id': '1002836756809551872', 'name': 'Zekiye Ataç', 'screen_name': 'Zekiye_Atac', 'location': 'Eşim Cezaevi, Oğlum Almanya', 'verified': 0, 'followers_count': 17182, 'statuses_count': 18309, 'friends_count': 646}\n",
      "{'id': '1002894800', 'name': 'Diego Chimbo', 'screen_name': 'DiegoFChimboV', 'location': None, 'verified': 0, 'followers_count': 1917, 'statuses_count': 843, 'friends_count': 430}\n",
      "{'id': '1002953971315585024', 'name': '🎂Sehun Day!🎂', 'screen_name': 'olalala94', 'location': 'exo.x1.mcnd', 'verified': 0, 'followers_count': 935, 'statuses_count': 17952, 'friends_count': 1326}\n",
      "{'id': '1003035806473379841', 'name': 'zubair', 'screen_name': 'zubair83039934', 'location': 'Brent, London', 'verified': 0, 'followers_count': 1570, 'statuses_count': 48464, 'friends_count': 4991}\n",
      "{'id': '1003120840186085377', 'name': 'Megha Sharma', 'screen_name': 'NaveeMeg', 'location': None, 'verified': 0, 'followers_count': 14, 'statuses_count': 2645, 'friends_count': 25}\n",
      "{'id': '1003164013683867648', 'name': 'pat', 'screen_name': 'patluvdpr', 'location': 'Jakarta Capital Region', 'verified': 0, 'followers_count': 111, 'statuses_count': 3801, 'friends_count': 279}\n",
      "{'id': '1003321398', 'name': 'Suju Fans', 'screen_name': 'elfsyaKyu89', 'location': 'IMAGINE', 'verified': 0, 'followers_count': 129, 'statuses_count': 5216, 'friends_count': 53}\n",
      "{'id': '1003424900', 'name': 'SRIDHAR IYER', 'screen_name': 'SRIDHAR0520', 'location': 'INDIA', 'verified': 0, 'followers_count': 462, 'statuses_count': 54860, 'friends_count': 627}\n",
      "{'id': '1003460467128295426', 'name': 'khaika13', 'screen_name': 'khaika13', 'location': 'Bekasi, Jawa Barat', 'verified': 0, 'followers_count': 11, 'statuses_count': 2846, 'friends_count': 192}\n",
      "{'id': '1003471018202103808', 'name': 'Maquiavellum 🐱', 'screen_name': 'SanMJ2018', 'location': 'Entre los Andes y el Atlantico', 'verified': 0, 'followers_count': 873, 'statuses_count': 39261, 'friends_count': 136}\n",
      "{'id': '1003481071281848320', 'name': 'हिन्द के निवासी🇮🇳🇮🇳', 'screen_name': 'Indian46516018', 'location': 'lapataganj', 'verified': 0, 'followers_count': 133, 'statuses_count': 18832, 'friends_count': 189}\n",
      "{'id': '1003523831695372288', 'name': 'agucu', 'screen_name': 'agucu3', 'location': None, 'verified': 0, 'followers_count': 36, 'statuses_count': 167, 'friends_count': 873}\n",
      "{'id': '1003554342', 'name': 'd', 'screen_name': 'ansothmn', 'location': 'Kuantan, Pahang', 'verified': 0, 'followers_count': 723, 'statuses_count': 32724, 'friends_count': 387}\n",
      "{'id': '1003656299589132291', 'name': 'Wolfgang Wiehle, MdB', 'screen_name': 'WolfgangWiehle', 'location': None, 'verified': 0, 'followers_count': 828, 'statuses_count': 491, 'friends_count': 308}\n",
      "{'id': '1003697563', 'name': 'Aysha Moolla', 'screen_name': 'ayshamoolla', 'location': None, 'verified': 0, 'followers_count': 1505, 'statuses_count': 390970, 'friends_count': 640}\n"
     ]
    }
   ],
   "source": [
    "connection = pymysql.connect(host='localhost',\n",
    "                             user='root',\n",
    "                             password='jayant',\n",
    "                             database='USERS_DATA',\n",
    "                             cursorclass=pymysql.cursors.DictCursor)\n",
    "\n",
    "# SQL statement to select all records from the Users table\n",
    "select_sql = \"SELECT * FROM Users LIMIT 50\"\n",
    "\n",
    "# Execute the SELECT query\n",
    "with connection.cursor() as cursor:\n",
    "    # Execute the query\n",
    "    cursor.execute(select_sql)\n",
    "    # Fetch all records\n",
    "    records = cursor.fetchall()\n",
    "\n",
    "# Print the retrieved records\n",
    "for record in records:\n",
    "    print(record)\n"
   ]
  },
  {
   "cell_type": "code",
   "execution_count": 61,
   "id": "4af15925",
   "metadata": {},
   "outputs": [
    {
     "name": "stdout",
     "output_type": "stream",
     "text": [
      "Total records in the Users table: 15505\n"
     ]
    }
   ],
   "source": [
    "count_sql = \"SELECT COUNT(*) AS total_records FROM Users\"\n",
    "\n",
    "# Execute the SELECT query\n",
    "with connection.cursor() as cursor:\n",
    "    # Execute the query\n",
    "    cursor.execute(count_sql)\n",
    "    # Fetch the result\n",
    "    result = cursor.fetchone()\n",
    "\n",
    "# Print the count of total records\n",
    "total_records = result['total_records']\n",
    "print(\"Total records in the Users table:\", total_records)"
   ]
  },
  {
   "cell_type": "code",
   "execution_count": null,
   "id": "80bd7af3",
   "metadata": {},
   "outputs": [],
   "source": []
  },
  {
   "cell_type": "code",
   "execution_count": null,
   "id": "fe337169",
   "metadata": {},
   "outputs": [],
   "source": []
  }
 ],
 "metadata": {
  "kernelspec": {
   "display_name": "Python 3 (ipykernel)",
   "language": "python",
   "name": "python3"
  },
  "language_info": {
   "codemirror_mode": {
    "name": "ipython",
    "version": 3
   },
   "file_extension": ".py",
   "mimetype": "text/x-python",
   "name": "python",
   "nbconvert_exporter": "python",
   "pygments_lexer": "ipython3",
   "version": "3.11.5"
  }
 },
 "nbformat": 4,
 "nbformat_minor": 5
}
